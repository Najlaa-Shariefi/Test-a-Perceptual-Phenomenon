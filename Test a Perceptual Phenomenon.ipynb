{
 "cells": [
  {
   "cell_type": "markdown",
   "metadata": {},
   "source": [
    "# Analyzing the Stroop Effect\n"
   ]
  },
  {
   "cell_type": "markdown",
   "metadata": {},
   "source": [
    "## Table of Contents"
   ]
  },
  {
   "cell_type": "markdown",
   "metadata": {},
   "source": [
    "- [Background information](#BI)\n",
    "- [Questions](#Qs)\n",
    "- [Question 1](#Q1)\n",
    "- [Question 2](#Q2)\n",
    "- [Question 3](#Q3)\n",
    "- [Question 4](#Q4)\n",
    "- [Question 5](#Q5)\n",
    "- [Conclusion](#conc)\n",
    "- [Question 6](#Q6)\n",
    "- [Resources](#Res)"
   ]
  },
  {
   "cell_type": "markdown",
   "metadata": {},
   "source": [
    "<a id='BI'></a>\n",
    "## Background information\n",
    "(The following background information is excerpted from [the project instruction](https://docs.google.com/document/d/1-OkpZLjG_kX9J6LIQ5IltsqMzVWjh36QpnP2RYpVdPU/pub?embedded=True))\n",
    "\n",
    "- In a **Stroop task**, participants are presented with a list of words, with each word displayed in a color of ink. \n",
    "- The participant’s task is to say out loud **the color of the ink** in which the word is printed.\n",
    "- The task has two conditions: **a congruent words condition, and an incongruent words condition.** \n",
    "- **In the congruent words condition,** the words being displayed are color words whose names **match** the colors in which they are printed. \n",
    "- **In the incongruent words condition,** the words displayed are color words whose names **do not match** the colors in which they are printed. \n",
    "- In each case, we measure **the time it takes to name the ink colors in equally-sized lists.**\n",
    "- Each participant will go through and record a time needed to complete reading two equally-sized lists of words.\n"
   ]
  },
  {
   "cell_type": "markdown",
   "metadata": {
    "collapsed": true
   },
   "source": [
    "**Import libraries**"
   ]
  },
  {
   "cell_type": "code",
   "execution_count": 9,
   "metadata": {},
   "outputs": [],
   "source": [
    "import pandas as pd \n",
    "import numpy as np\n",
    "import scipy.stats as st\n",
    "import random\n",
    "import matplotlib.pyplot as plt\n",
    "%matplotlib inline"
   ]
  },
  {
   "cell_type": "markdown",
   "metadata": {},
   "source": [
    "**Read in the Dataset**"
   ]
  },
  {
   "cell_type": "code",
   "execution_count": 10,
   "metadata": {},
   "outputs": [
    {
     "data": {
      "text/html": [
       "<div>\n",
       "<style>\n",
       "    .dataframe thead tr:only-child th {\n",
       "        text-align: right;\n",
       "    }\n",
       "\n",
       "    .dataframe thead th {\n",
       "        text-align: left;\n",
       "    }\n",
       "\n",
       "    .dataframe tbody tr th {\n",
       "        vertical-align: top;\n",
       "    }\n",
       "</style>\n",
       "<table border=\"1\" class=\"dataframe\">\n",
       "  <thead>\n",
       "    <tr style=\"text-align: right;\">\n",
       "      <th></th>\n",
       "      <th>Congruent</th>\n",
       "      <th>Incongruent</th>\n",
       "    </tr>\n",
       "  </thead>\n",
       "  <tbody>\n",
       "    <tr>\n",
       "      <th>0</th>\n",
       "      <td>12.079</td>\n",
       "      <td>19.278</td>\n",
       "    </tr>\n",
       "    <tr>\n",
       "      <th>1</th>\n",
       "      <td>16.791</td>\n",
       "      <td>18.741</td>\n",
       "    </tr>\n",
       "    <tr>\n",
       "      <th>2</th>\n",
       "      <td>9.564</td>\n",
       "      <td>21.214</td>\n",
       "    </tr>\n",
       "    <tr>\n",
       "      <th>3</th>\n",
       "      <td>8.630</td>\n",
       "      <td>15.687</td>\n",
       "    </tr>\n",
       "    <tr>\n",
       "      <th>4</th>\n",
       "      <td>14.669</td>\n",
       "      <td>22.803</td>\n",
       "    </tr>\n",
       "  </tbody>\n",
       "</table>\n",
       "</div>"
      ],
      "text/plain": [
       "   Congruent  Incongruent\n",
       "0     12.079       19.278\n",
       "1     16.791       18.741\n",
       "2      9.564       21.214\n",
       "3      8.630       15.687\n",
       "4     14.669       22.803"
      ]
     },
     "execution_count": 10,
     "metadata": {},
     "output_type": "execute_result"
    }
   ],
   "source": [
    "df = pd.read_csv('stroopdata.csv')\n",
    "df.head()"
   ]
  },
  {
   "cell_type": "markdown",
   "metadata": {},
   "source": [
    "<a id='Qs'></a>\n",
    "# Questions"
   ]
  },
  {
   "cell_type": "markdown",
   "metadata": {},
   "source": [
    "<a id='Q1'></a>\n",
    "## 1. What is the independent variable? What is the dependent variable?"
   ]
  },
  {
   "cell_type": "markdown",
   "metadata": {},
   "source": [
    "#### The Independent Variable is the condition of the provided list of words.\n",
    "As we have two conditions: **congruent and incongruent words** that are  included in two equally-sized lists. \n",
    "- **In the congruent words condition,** the words being displayed are color words whose names match the colors in which they are printed. \n",
    "- **In the incongruent words condition,** the words displayed are color words whose names do not match the colors in which they are printed. \n",
    "\n",
    "#### The Dependent Variable is the time spent to name the ink colors in a given list of words. \n"
   ]
  },
  {
   "cell_type": "markdown",
   "metadata": {},
   "source": [
    "<a id='Q2'></a>\n",
    "## 2. What is an appropriate set of hypotheses for this task? Specify your null and alternative hypotheses, and clearly define any notation used. Justify your choices."
   ]
  },
  {
   "cell_type": "markdown",
   "metadata": {},
   "source": [
    "### Hypotheses:"
   ]
  },
  {
   "cell_type": "markdown",
   "metadata": {},
   "source": [
    "$$H_0: \\mu_i - \\mu_c = 0 $$\n",
    "\n",
    "$$H_1: \\mu_i -\\mu_c \\neq  0 $$\n"
   ]
  },
  {
   "cell_type": "markdown",
   "metadata": {},
   "source": [
    " > where $\\mu_i$ and $\\mu_c$ are the **Population's Average Time** spent to name the ink colors of **Incongruent and Congruent** lists of words, respectively."
   ]
  },
  {
   "cell_type": "markdown",
   "metadata": {},
   "source": [
    "**Null Hypothesis** suggests that the **difference between** the average time spent to name the ink colors in an **incongruent word list** and the average time spent to name the ink colors in a **congruent word list** equals to zero. i.e. **on average, a participant needs an equal time to go through an incongruent word list compared to the one needed in the congruent condition.** \n",
    "- In other words, changing the experiment condition **will not affect** the average time needed to name the ink colors of a list which means that whether the words match the ink colors or not,this wil not have any impact on the average time required by a participant to name the ink colors.\n",
    "\n",
    "\n",
    "**Alternative Hupothesis** suggests that the **difference between** the average time spent to name the ink colors in an **incongruent word list** and the average time spent to name the ink colors in a **congruent word list** does not equal to zero. i.e. on average, a participant spends more/less time to go through an incongruent word list compared to the one spent in the congruent condition. \n",
    "- In other words, on average, a participant spends **unequal time** to go through  two equally-sized lists of congruent and incongruent words. which means whether the words match the ink colors or not, wil have an impact an impact on the average time required by a participant to name the ink colors.\n",
    "\n",
    "**The above set of Hypotheses are considered  because researchers would be interested in proving that: ( on average)  naming the ink colors differ based on the fact of wether words of a given list match the ink colors(congruent condition) or not(incongruent condition).**"
   ]
  },
  {
   "cell_type": "markdown",
   "metadata": {},
   "source": [
    "### Proposing a Statistical Test"
   ]
  },
  {
   "cell_type": "markdown",
   "metadata": {},
   "source": [
    "#### Considering the provided Dataset and the previously stated set of Hypotheses,a One-tailed t-test would be surely an appropriate statistical test to perform."
   ]
  },
  {
   "cell_type": "markdown",
   "metadata": {},
   "source": [
    "- **A t-test will be used for the following reasons:**\n",
    "     - Our dataset contains only 24 observations and ,as known, the t-tests are most helpful with small sample sizes (n < 30), whereas z-tests are used with larger sample sizes (n > 30).\n",
    "     - We don't have any population parameters provided (so a z-test would not be appropriate here)."
   ]
  },
  {
   "cell_type": "markdown",
   "metadata": {},
   "source": [
    "- **A \"one-tailed\" test will be used for the following reasons:**\n",
    "     - We are aiming to prove that there is a difference between Congruent and Incongruent conditions in terms of the Time recorded to go through a word list of a given condition. \n",
    "     - We are interested in determining if Incongruent condition scored higher than Congruent condition. The main advantage of      - Using a one-tailed test has more statistical power than a two-tailed test at the same significance (alpha) level and the results are more likely to be significant for a one-tailed test if there truly is a difference between the two conditions in the direction that  we have predicted."
   ]
  },
  {
   "cell_type": "markdown",
   "metadata": {},
   "source": [
    "#### Furthermore,our one-tailed t-test will be used with the following assumptions:\n",
    "     1- The data is normally distributed.\n",
    "     2- The standard deviation is unknown.\n",
    "     3- Non equal Standard Deviation."
   ]
  },
  {
   "cell_type": "markdown",
   "metadata": {},
   "source": [
    "<a id='Q3'></a>\n",
    "## 3. Report some descriptive statistics regarding this dataset. Include at least one measure of central tendency and at least one measure of variability."
   ]
  },
  {
   "cell_type": "markdown",
   "metadata": {},
   "source": [
    "### The Measures of central tendency include MEAN"
   ]
  },
  {
   "cell_type": "markdown",
   "metadata": {},
   "source": [
    "Compute the Mean of both Congruentand and Incongruent conditions"
   ]
  },
  {
   "cell_type": "code",
   "execution_count": 11,
   "metadata": {},
   "outputs": [
    {
     "data": {
      "text/plain": [
       "Congruent      14.051125\n",
       "Incongruent    22.015917\n",
       "dtype: float64"
      ]
     },
     "execution_count": 11,
     "metadata": {},
     "output_type": "execute_result"
    }
   ],
   "source": [
    "df.mean()"
   ]
  },
  {
   "cell_type": "code",
   "execution_count": 12,
   "metadata": {},
   "outputs": [
    {
     "data": {
      "text/plain": [
       "Congruent      14.3565\n",
       "Incongruent    21.0175\n",
       "dtype: float64"
      ]
     },
     "execution_count": 12,
     "metadata": {},
     "output_type": "execute_result"
    }
   ],
   "source": [
    "df.median()"
   ]
  },
  {
   "cell_type": "markdown",
   "metadata": {},
   "source": [
    "### Based on the given sample and as presented above: "
   ]
  },
  {
   "cell_type": "markdown",
   "metadata": {},
   "source": [
    "- In **Congruent condition**, where the printed color name matches the ink color in which the word is printed:\n",
    "      - The Mean (average) time required to go through and read loudly a word list is around 14.05 . \n",
    "      - The Median in this condition equals 14.3565 ."
   ]
  },
  {
   "cell_type": "markdown",
   "metadata": {},
   "source": [
    "- In **Incongruent condition**, where the printed color name does not match the ink color in which the word is printed:\n",
    "      - The Mean (average) time required to go through and read loudly a word list is 22.016 .\n",
    "      - The Median in this condition equals 21.0175  ."
   ]
  },
  {
   "cell_type": "markdown",
   "metadata": {},
   "source": [
    "### The Measures of Variability are the Measures of Spread and can be computed as following:"
   ]
  },
  {
   "cell_type": "markdown",
   "metadata": {},
   "source": [
    "Compute Descriptive or Summary Statistics"
   ]
  },
  {
   "cell_type": "code",
   "execution_count": 13,
   "metadata": {},
   "outputs": [
    {
     "data": {
      "text/html": [
       "<div>\n",
       "<style>\n",
       "    .dataframe thead tr:only-child th {\n",
       "        text-align: right;\n",
       "    }\n",
       "\n",
       "    .dataframe thead th {\n",
       "        text-align: left;\n",
       "    }\n",
       "\n",
       "    .dataframe tbody tr th {\n",
       "        vertical-align: top;\n",
       "    }\n",
       "</style>\n",
       "<table border=\"1\" class=\"dataframe\">\n",
       "  <thead>\n",
       "    <tr style=\"text-align: right;\">\n",
       "      <th></th>\n",
       "      <th>Congruent</th>\n",
       "      <th>Incongruent</th>\n",
       "    </tr>\n",
       "  </thead>\n",
       "  <tbody>\n",
       "    <tr>\n",
       "      <th>count</th>\n",
       "      <td>24.000000</td>\n",
       "      <td>24.000000</td>\n",
       "    </tr>\n",
       "    <tr>\n",
       "      <th>mean</th>\n",
       "      <td>14.051125</td>\n",
       "      <td>22.015917</td>\n",
       "    </tr>\n",
       "    <tr>\n",
       "      <th>std</th>\n",
       "      <td>3.559358</td>\n",
       "      <td>4.797057</td>\n",
       "    </tr>\n",
       "    <tr>\n",
       "      <th>min</th>\n",
       "      <td>8.630000</td>\n",
       "      <td>15.687000</td>\n",
       "    </tr>\n",
       "    <tr>\n",
       "      <th>25%</th>\n",
       "      <td>11.895250</td>\n",
       "      <td>18.716750</td>\n",
       "    </tr>\n",
       "    <tr>\n",
       "      <th>50%</th>\n",
       "      <td>14.356500</td>\n",
       "      <td>21.017500</td>\n",
       "    </tr>\n",
       "    <tr>\n",
       "      <th>75%</th>\n",
       "      <td>16.200750</td>\n",
       "      <td>24.051500</td>\n",
       "    </tr>\n",
       "    <tr>\n",
       "      <th>max</th>\n",
       "      <td>22.328000</td>\n",
       "      <td>35.255000</td>\n",
       "    </tr>\n",
       "  </tbody>\n",
       "</table>\n",
       "</div>"
      ],
      "text/plain": [
       "       Congruent  Incongruent\n",
       "count  24.000000    24.000000\n",
       "mean   14.051125    22.015917\n",
       "std     3.559358     4.797057\n",
       "min     8.630000    15.687000\n",
       "25%    11.895250    18.716750\n",
       "50%    14.356500    21.017500\n",
       "75%    16.200750    24.051500\n",
       "max    22.328000    35.255000"
      ]
     },
     "execution_count": 13,
     "metadata": {},
     "output_type": "execute_result"
    }
   ],
   "source": [
    "df.describe()"
   ]
  },
  {
   "cell_type": "markdown",
   "metadata": {},
   "source": [
    "### As illustrated in the above summary statistics:"
   ]
  },
  {
   "cell_type": "markdown",
   "metadata": {},
   "source": [
    "\n",
    " - #### For the Times Recorded that are associated with Congruent condition:\n",
    "        - The minimum recorded time is 8.63, while the maximum is 22.328\n",
    "        - About 25% of the Times Recorded lies below 11.895 (about 75% lies above this first quartile)\n",
    "        - About 50% of the Times Recorded lies below 14.357\n",
    "        - About 75% of the Times Recorded lies below 16.2 (about 25% lies above this third quartile)\n"
   ]
  },
  {
   "cell_type": "markdown",
   "metadata": {},
   "source": [
    " - #### For the Times Recorded that are associated with Incongruent condition:\n",
    "        - The minimum recorded time is 15.687, while the maximum is 35.255\n",
    "        - About 25% of the Times Recorded lies below 18.72 (about 75% lies above this first quartile)\n",
    "        - About 50% of the Times Recorded lies below 21.018\n",
    "        - About 75% of the Times Recorded lies below 24.05 (about 25% lies above this third quartile)"
   ]
  },
  {
   "cell_type": "markdown",
   "metadata": {},
   "source": [
    "<a id='Q4'></a>\n",
    "## 4. Provide one or two visualizations that show the distribution of the sample data. Write one or two sentences noting what you observe about the plot or plots."
   ]
  },
  {
   "cell_type": "markdown",
   "metadata": {},
   "source": [
    "#### Plot the distribution of the recorded times in the Congruent Condition of the sample data"
   ]
  },
  {
   "cell_type": "code",
   "execution_count": 14,
   "metadata": {},
   "outputs": [
    {
     "data": {
      "image/png": "[encoded data removed]",
      "text/plain": [
       "<matplotlib.figure.Figure at 0x7f7e25b515f8>"
      ]
     },
     "metadata": {
      "needs_background": "light"
     },
     "output_type": "display_data"
    }
   ],
   "source": [
    "cong = df['Congruent']\n",
    "plt.figure(figsize=(7,7))\n",
    "plt.hist(cong , color = 'wheat')\n",
    "plt.xlabel('Time Recorded', fontsize=13.5)\n",
    "plt.ylabel('Frequency', fontsize=13.5)\n",
    "plt.title('The Distribution of Times in Congruent Condition', fontsize=15);"
   ]
  },
  {
   "cell_type": "markdown",
   "metadata": {},
   "source": [
    "#### Plot the distribution of the recorded times in the Incongruent Condition of the sample data"
   ]
  },
  {
   "cell_type": "code",
   "execution_count": 15,
   "metadata": {},
   "outputs": [
    {
     "data": {
      "image/png": "[encoded data removed]",
      "text/plain": [
       "<matplotlib.figure.Figure at 0x7f7e22b1dcc0>"
      ]
     },
     "metadata": {
      "needs_background": "light"
     },
     "output_type": "display_data"
    }
   ],
   "source": [
    "incong = df['Incongruent']\n",
    "plt.figure(figsize=(7,7))\n",
    "plt.hist(incong , color = 'mediumaquamarine')\n",
    "plt.xlabel('Time Recorded', fontsize=13.5)\n",
    "plt.ylabel('Frequency', fontsize=13.5)\n",
    "plt.title('The Distribution of Times in Incongruent Condition', fontsize=15);"
   ]
  },
  {
   "cell_type": "markdown",
   "metadata": {},
   "source": [
    "**For easier comparison,** plot the distributions of the Times Recorded for both Congruent and Incongruent conditions in a single figure"
   ]
  },
  {
   "cell_type": "code",
   "execution_count": 16,
   "metadata": {},
   "outputs": [
    {
     "data": {
      "image/png": "[encoded data removed]",
      "text/plain": [
       "<matplotlib.figure.Figure at 0x7f7e22c92ba8>"
      ]
     },
     "metadata": {
      "needs_background": "light"
     },
     "output_type": "display_data"
    }
   ],
   "source": [
    "plt.figure(figsize=(8,8))\n",
    "plt.hist(df['Congruent'], color = 'goldenrod', label = 'Congruent', alpha=0.5)\n",
    "plt.hist(df['Incongruent'], color = 'mediumaquamarine', label = 'Incongruent', alpha=0.5)\n",
    "plt.legend(prop={'size': 14})\n",
    "plt.xlabel('Time Recorded', fontsize=14)\n",
    "plt.ylabel('Frequency', fontsize=14)\n",
    "plt.title('The Distribution of Times in Congruent Vs Incongruent Conditions', fontsize=14);"
   ]
  },
  {
   "cell_type": "markdown",
   "metadata": {},
   "source": [
    "### Comparing the above Histograms indicates the following:\n",
    "- In general, it takes more time to go through the **Incongruent word** list than it takes to go through an equal-size list of **Congruent words.** \n",
    "- **In Incongruent condition,** the bin between 20 and 22 has the largest number of observations(6 observations), where the tallest bin **in Congruent condition** is the bin between 14 and 16 (presenting 6 observations). The locations of the tallest bins in the histigrams that represent both conditions confirm that the median of the Incongruent condition data set is higher than the one related to the Congruent condition."
   ]
  },
  {
   "cell_type": "markdown",
   "metadata": {},
   "source": [
    "<a id='Q5'></a>\n",
    "## 5. Now, perform the statistical test and report your results. What is your confidence level or Type I error associated with your test? What is your conclusion regarding the hypotheses you set up? Did the results match up with your expectations? **Hint:**  Think about what is being measured on each individual, and what statistic best captures how an individual reacts in each environment."
   ]
  },
  {
   "cell_type": "markdown",
   "metadata": {},
   "source": [
    "- Confidence Interval =  %95\n",
    "- Type I error = 0.05"
   ]
  },
  {
   "cell_type": "code",
   "execution_count": 22,
   "metadata": {},
   "outputs": [],
   "source": [
    "#computing n \n",
    "n = len(df['Congruent'])"
   ]
  },
  {
   "cell_type": "code",
   "execution_count": 28,
   "metadata": {},
   "outputs": [
    {
     "name": "stdout",
     "output_type": "stream",
     "text": [
      "t-statistic = 8.02070694411\n",
      "critical value at the Confidence Interval = 0.95(-2.0686576104190406, 2.0686576104190406)\n"
     ]
    }
   ],
   "source": [
    "X = df['Incongruent'] - df['Congruent']\n",
    "mean = X.mean() \n",
    "std = X.std()\n",
    "freedom=23\n",
    "CI = 0.95 #Confidence Interval\n",
    "print(\"t-statistic = \"+str(mean/(std/np.sqrt(n))))\n",
    "print(\"critical value at the Confidence Interval = \"+str(CI)+str(st.t.interval(CI,freedom)))"
   ]
  },
  {
   "cell_type": "markdown",
   "metadata": {},
   "source": [
    "<a id='conc'></a>\n",
    "# Conclusion"
   ]
  },
  {
   "cell_type": "markdown",
   "metadata": {},
   "source": [
    "Since the absolute value of the t-value(8.02) is greater than the critical value(2.01), **we reject the Null Hypothesis** which states that the **difference between** the average time spent to name the ink colors in an **incongruent word list** and the average time spent to name the ink colors in a **congruent word list** equals to zero. In theory, if we were able to calculate the average difference of all the participants (the population) we expect there would be a significantly slower or significantly faster time in either the incongruent or congruent condition. Considering the histograms plotted above based on the provided sample data, it was clear that, **on average, participants took more time to go through the Incongruent word list.**"
   ]
  },
  {
   "cell_type": "markdown",
   "metadata": {},
   "source": [
    "<a id='Q6'></a>\n",
    "## 6. What do you think is responsible for the effects observed? "
   ]
  },
  {
   "cell_type": "markdown",
   "metadata": {},
   "source": [
    "In my opinion ,I think that thee effects observed is this phenomenon is because the brain dominantly focuses on reading the word itself rather than naming the ink color on which the word is written whenever the eyes are presented with a colored word. To recognize a color, the participants needs to override his brain's natural tendency of reading the word. This overriding task takes time and  it might not succeed all the time, which leads to re-analyzing a word after an error takes place, which requires an additional time to correctly name the ink color of that word."
   ]
  },
  {
   "cell_type": "markdown",
   "metadata": {},
   "source": [
    "<a id='Res'></a>\n",
    "## Resources"
   ]
  },
  {
   "cell_type": "markdown",
   "metadata": {},
   "source": [
    "- https://docs.google.com/document/d/1-OkpZLjG_kX9J6LIQ5IltsqMzVWjh36QpnP2RYpVdPU/pub?embedded=True\n",
    "- https://stackoverflow.com/questions/7125009/how-to-change-legend-size-with-matplotlib-pyplot\n",
    "- https://www.statisticssolutions.com/should-you-use-a-one-tailed-test-or-a-two-tailed-test-for-your-data-analysis/\n",
    "- https://study.com/academy/lesson/z-test-t-test-similarities-differences.html\n",
    "- https://support.minitab.com/en-us/minitab-express/1/help-and-how-to/modeling-statistics/regression/supporting-topics/regression-models/using-the-t-value-to-determine-whether-to-reject-the-null-hypothesis/"
   ]
  }
 ],
 "metadata": {
  "kernelspec": {
   "display_name": "Python 3",
   "language": "python",
   "name": "python3"
  },
  "language_info": {
   "codemirror_mode": {
    "name": "ipython",
    "version": 3
   },
   "file_extension": ".py",
   "mimetype": "text/x-python",
   "name": "python",
   "nbconvert_exporter": "python",
   "pygments_lexer": "ipython3",
   "version": "3.6.3"
  }
 },
 "nbformat": 4,
 "nbformat_minor": 2
}
